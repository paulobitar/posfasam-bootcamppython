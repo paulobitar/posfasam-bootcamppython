{
  "nbformat": 4,
  "nbformat_minor": 0,
  "metadata": {
    "colab": {
      "name": "orientacao Objeto.ipynb",
      "provenance": []
    },
    "kernelspec": {
      "name": "python3",
      "display_name": "Python 3"
    },
    "language_info": {
      "name": "python"
    }
  },
  "cells": [
    {
      "cell_type": "code",
      "metadata": {
        "id": "q1fsbOjsrzai"
      },
      "source": [
        "class Onibus:\n",
        "  __capacidade_total = 45\n",
        "  __velocidade = 0\n",
        "  __velocidade_maxima = 60\n",
        "\n",
        "  def __init__(self):\n",
        "    self.capacidade_atual = 0\n",
        "    self.placa=''\n",
        "    self.modelo='' \n",
        "  \n",
        "  def acelerar(self,velocidade_final=10):\n",
        "     assert self.__verifica_velocidade(velocidade_final), 'Velocidade deve ser positiva'\n",
        "     assert self.__permite_acelerar(velocidade_final),\"Velocidade Máxima Excedida: %r\" %self.__velocidade_maxima\n",
        "     self.__velocidade = velocidade_final\n",
        "\n",
        "  def frear(self,velocidade_final=0):\n",
        "    assert self.__verifica_velocidade(velocidade_final), 'Velocidade deve ser positiva'\n",
        "    self.__velocidade = velocidade_final\n",
        "  \n",
        "  def embarcar(self,qtd_pessoas=1):\n",
        "    assert self.__permite_embarque(qtd_pessoas),'Lotação máxima atingida: %r'%self.__capacidade_total\n",
        "    self.frear(0)\n",
        "    self.capacidade_atual += qtd_pessoas\n",
        "  \n",
        "  def desembarcar(self,qtd_pessoas=1):\n",
        "    assert self.__permite_desembarque(qtd_pessoas),'Não é possível desembarcar mais pessoas do que a capacidade atual: %r'%self.capacidade_atual\n",
        "    self.frear(0)\n",
        "    self.__capacidade_atual -= qtd_pessoas\n",
        "  \n",
        "  def get_velocidade(self):\n",
        "    return self.__velocidade\n",
        "  \n",
        "  def __permite_embarque(self, qtd_pessoas):\n",
        "    return (self.capacidade_atual+qtd_pessoas<=self.__capacidade_total)\n",
        "  \n",
        "  def __permite_desembarque(self, qtd_pessoas):\n",
        "    return (self.capacidade_atual-qtd_pessoas >=0)\n",
        "  \n",
        "  def __permite_acelerar(self, velocidade):\n",
        "    return (velocidade<= self.__velocidade_maxima)\n",
        "  \n",
        "  def __verifica_velocidade(self, velocidade):\n",
        "    return (velocidade>=0)\n",
        "\n",
        "\n"
      ],
      "execution_count": 26,
      "outputs": []
    },
    {
      "cell_type": "code",
      "metadata": {
        "colab": {
          "base_uri": "https://localhost:8080/",
          "height": 333
        },
        "id": "rIvuZwiuv3Rl",
        "outputId": "85246fca-42b7-4f61-9c1d-78f6b128fed2"
      },
      "source": [
        "bus = Onibus()\n",
        "bus.acelerar(-1)\n",
        "bus.frear(-1)\n",
        "\n"
      ],
      "execution_count": 28,
      "outputs": [
        {
          "output_type": "error",
          "ename": "AssertionError",
          "evalue": "ignored",
          "traceback": [
            "\u001b[0;31m---------------------------------------------------------------------------\u001b[0m",
            "\u001b[0;31mAssertionError\u001b[0m                            Traceback (most recent call last)",
            "\u001b[0;32m<ipython-input-28-fd1d57d8e3f2>\u001b[0m in \u001b[0;36m<module>\u001b[0;34m()\u001b[0m\n\u001b[1;32m      1\u001b[0m \u001b[0mbus\u001b[0m \u001b[0;34m=\u001b[0m \u001b[0mOnibus\u001b[0m\u001b[0;34m(\u001b[0m\u001b[0;34m)\u001b[0m\u001b[0;34m\u001b[0m\u001b[0;34m\u001b[0m\u001b[0m\n\u001b[0;32m----> 2\u001b[0;31m \u001b[0mbus\u001b[0m\u001b[0;34m.\u001b[0m\u001b[0macelerar\u001b[0m\u001b[0;34m(\u001b[0m\u001b[0;34m-\u001b[0m\u001b[0;36m1\u001b[0m\u001b[0;34m)\u001b[0m\u001b[0;34m\u001b[0m\u001b[0;34m\u001b[0m\u001b[0m\n\u001b[0m\u001b[1;32m      3\u001b[0m \u001b[0mbus\u001b[0m\u001b[0;34m.\u001b[0m\u001b[0mfrear\u001b[0m\u001b[0;34m(\u001b[0m\u001b[0;34m-\u001b[0m\u001b[0;36m1\u001b[0m\u001b[0;34m)\u001b[0m\u001b[0;34m\u001b[0m\u001b[0;34m\u001b[0m\u001b[0m\n\u001b[1;32m      4\u001b[0m \u001b[0;34m\u001b[0m\u001b[0m\n",
            "\u001b[0;32m<ipython-input-26-ef1132568b2c>\u001b[0m in \u001b[0;36macelerar\u001b[0;34m(self, velocidade_final)\u001b[0m\n\u001b[1;32m     10\u001b[0m \u001b[0;34m\u001b[0m\u001b[0m\n\u001b[1;32m     11\u001b[0m   \u001b[0;32mdef\u001b[0m \u001b[0macelerar\u001b[0m\u001b[0;34m(\u001b[0m\u001b[0mself\u001b[0m\u001b[0;34m,\u001b[0m\u001b[0mvelocidade_final\u001b[0m\u001b[0;34m=\u001b[0m\u001b[0;36m10\u001b[0m\u001b[0;34m)\u001b[0m\u001b[0;34m:\u001b[0m\u001b[0;34m\u001b[0m\u001b[0;34m\u001b[0m\u001b[0m\n\u001b[0;32m---> 12\u001b[0;31m      \u001b[0;32massert\u001b[0m \u001b[0mself\u001b[0m\u001b[0;34m.\u001b[0m\u001b[0m__verifica_velocidade\u001b[0m\u001b[0;34m(\u001b[0m\u001b[0mvelocidade_final\u001b[0m\u001b[0;34m)\u001b[0m\u001b[0;34m,\u001b[0m \u001b[0;34m'Velocidade deve ser positiva'\u001b[0m\u001b[0;34m\u001b[0m\u001b[0;34m\u001b[0m\u001b[0m\n\u001b[0m\u001b[1;32m     13\u001b[0m      \u001b[0;32massert\u001b[0m \u001b[0mself\u001b[0m\u001b[0;34m.\u001b[0m\u001b[0m__permite_acelerar\u001b[0m\u001b[0;34m(\u001b[0m\u001b[0mvelocidade_final\u001b[0m\u001b[0;34m)\u001b[0m\u001b[0;34m,\u001b[0m\u001b[0;34m\"Velocidade Máxima Excedida: %r\"\u001b[0m \u001b[0;34m%\u001b[0m\u001b[0mself\u001b[0m\u001b[0;34m.\u001b[0m\u001b[0m__velocidade_maxima\u001b[0m\u001b[0;34m\u001b[0m\u001b[0;34m\u001b[0m\u001b[0m\n\u001b[1;32m     14\u001b[0m      \u001b[0mself\u001b[0m\u001b[0;34m.\u001b[0m\u001b[0m__velocidade\u001b[0m \u001b[0;34m=\u001b[0m \u001b[0mvelocidade_final\u001b[0m\u001b[0;34m\u001b[0m\u001b[0;34m\u001b[0m\u001b[0m\n",
            "\u001b[0;31mAssertionError\u001b[0m: Velocidade deve ser positiva"
          ]
        }
      ]
    }
  ]
}