{
  "nbformat": 4,
  "nbformat_minor": 0,
  "metadata": {
    "colab": {
      "name": "scrap_anac.ipynb",
      "provenance": [],
      "collapsed_sections": [],
      "authorship_tag": "ABX9TyPCyEWx7IF8frEjEj4y2/qp",
      "include_colab_link": true
    },
    "kernelspec": {
      "name": "python3",
      "display_name": "Python 3"
    },
    "language_info": {
      "name": "python"
    }
  },
  "cells": [
    {
      "cell_type": "markdown",
      "metadata": {
        "id": "view-in-github",
        "colab_type": "text"
      },
      "source": [
        "<a href=\"https://colab.research.google.com/github/paulobitar/posfasam-bootcamppython/blob/main/scrap_anac.ipynb\" target=\"_parent\"><img src=\"https://colab.research.google.com/assets/colab-badge.svg\" alt=\"Open In Colab\"/></a>"
      ]
    },
    {
      "cell_type": "code",
      "metadata": {
        "id": "W6NUGL5dsUh0"
      },
      "source": [
        "import json\n",
        "import urllib\n",
        "import requests\n",
        "import io\n",
        "import pandas as pd\n",
        "from bs4 import BeautifulSoup"
      ],
      "execution_count": 39,
      "outputs": []
    },
    {
      "cell_type": "code",
      "metadata": {
        "id": "ETPPGN6vk1oW"
      },
      "source": [
        "#recuperando o número de serie dos dados abertos da ANAC\n",
        "#limitado a 10 linhas por uma questão de performance\n",
        "url = \"https://www.anac.gov.br/acesso-a-informacao/dados-abertos/areas-de-atuacao/aeronaves/registro-aeronautico-brasileiro/aeronaves-registradas-no-registro-aeronautico-brasileiro-csv\"\n",
        "df_num_serie = pd.read_csv(url, sep=';', skiprows=1, encoding ='latin1', usecols=['NUM_SERIE'], nrows=10)\n"
      ],
      "execution_count": 40,
      "outputs": []
    },
    {
      "cell_type": "code",
      "metadata": {
        "id": "SzkEHwBOci4h"
      },
      "source": [
        "url = 'https://sistemas.anac.gov.br/aeronaves/cons_rab_resposta.asp?textMarca=&selectHabilitacao=&selectIcao=&selectModelo=&selectFabricante=&textNumeroSerie='\n",
        "lista_aeronave=[]\n",
        "\n",
        "for index, row in df_num_serie.iterrows():\n",
        "  #gerando a URL de Request com o número de série\n",
        "  r  = requests.get(url+row['NUM_SERIE'])\n",
        "  data = r.text\n",
        "  soup = BeautifulSoup(data,\"html.parser\")\n",
        "  #localizando a tabela onde estão os dados\n",
        "  tabela = soup.find(\"table\", {\"class\": \"table table-hover\"})\n",
        "  #usando o método read_html do pŕoprio pandas para transformar a tabela em um Dataframe\n",
        "  df = pd.read_html(str(tabela))[0]\n",
        "  df.rename(columns={0:'campo',1:'valor'}, inplace=True)\n",
        "  #ZIP retorna uma lista de tuplas, onde cada linha i-ésima tupla contém o i-ésimo elemento de cada um dos argumentos.\n",
        "  #Assim as linhas da coluna CAMPO se transformam em Colunas para cada valor\n",
        "  lista_aeronave.append(dict(zip(df.campo, df.valor)))\n",
        "  \n"
      ],
      "execution_count": null,
      "outputs": []
    },
    {
      "cell_type": "code",
      "metadata": {
        "colab": {
          "base_uri": "https://localhost:8080/"
        },
        "id": "2oSzhXWhrxpv",
        "outputId": "d4d8a7a2-ca77-472b-bb9f-c2eb63e81b2a"
      },
      "source": [
        "#Transformando a lista em Dataframe\n",
        "df_aeronave = pd.DataFrame(lista_aeronave)\n",
        "#Os campos estão terminando com : . Tratamento para retirar isso usando list comprehension\n",
        "temp_cols = df_aeronave.columns\n",
        "final_cols = [x.replace(':','') for x in temp_cols]\n",
        "df_aeronave.columns = [x.replace(':','').strip() for x in temp_cols]\n",
        "\n",
        "print(df_aeronave.to_string())"
      ],
      "execution_count": 58,
      "outputs": [
        {
          "output_type": "stream",
          "text": [
            "                       Proprietário        CPF/CNPJ                         Operador                        Fabricante Ano de Fabricação           Modelo Número de Série Tipo ICAO Tipo de Habilitação para Pilotos                         Classe da Aeronave Peso Máximo de Decolagem Número Máximo de Passageiros Tipo de voo autorizado           Categoria de Registro Número da Matrícula               Status da Operação  Outros Proprietarios\n",
            "0              GOVERNO FEDERAL ANAC  18607499000165            AEROCLUBE DE VARGINHA                               IPE              1989          IPE-02B             063      GLID                             PLAN              POUSO CONVECIONAL 0 SEM MOTOR                 565 - Kg                          001             VFR Diurno               PRIVADA INSTRUCAO               12394  OPERAÇÃO NEGADA PARA TÁXI AÉREO                   NaN\n",
            "1      LUIZ FERNANDO SEGADAS VIANNA     28866983772     LUIZ FERNANDO SEGADAS VIANNA      LUIZ FERNANDO SEGADAS VIANNA              2016     ACRO SPORT 2            1502      ULAC                             UATE     POUSO CONVECIONAL 1 MOTOR CONVENCIONAL                 707 - Kg                          001             VFR Diurno            PRIVADA EXPERIMENTAL              180805  OPERAÇÃO NEGADA PARA TÁXI AÉREO                   NaN\n",
            "2             CARLOS EDUARDO SKALEE     02543573933            CARLOS EDUARDO SKALEE        FLYER IND AERONAUTICA LTDA              1994         FLYER GT          FG-375      ULAC                             AAFT     POUSO CONVECIONAL 1 MOTOR CONVENCIONAL                 460 - Kg                          001             VFR Diurno            PRIVADA EXPERIMENTAL                 162  OPERAÇÃO NEGADA PARA TÁXI AÉREO                   NaN\n",
            "3          AEROCLUBE DE VERANOPOLIS  98674195000150         AEROCLUBE DE VERANOPOLIS                               IPE              1987          IPE-02B             032      GLID                             PLAN              POUSO CONVECIONAL 0 SEM MOTOR                 565 - Kg                          000             VFR Diurno               PRIVADA INSTRUCAO               11960  OPERAÇÃO NEGADA PARA TÁXI AÉREO                   NaN\n",
            "4                  JOAO LUIS FRANCA     79331920334                 JOAO LUIS FRANCA                               NaN              2004       VIMANA R12          JFN-01      ULAC                             UATE     POUSO CONVECIONAL 1 MOTOR CONVENCIONAL                 520 - Kg                          001             VFR Diurno            PRIVADA EXPERIMENTAL               50225  OPERAÇÃO NEGADA PARA TÁXI AÉREO                   NaN\n",
            "5           MARCELO DE LIMA CAMARGO     12338187830  SERGIO SIDINEI BARBOSA DA CUNHA  SERGIO BARBOSA E MARCELO CAMARGO              2011  REPLICA PA22-BR            0001      ZZZZ                             MNTE     POUSO CONVECIONAL 1 MOTOR CONVENCIONAL                 885 - Kg                          003             VFR Diurno            PRIVADA EXPERIMENTAL              120912  OPERAÇÃO NEGADA PARA TÁXI AÉREO                   NaN\n",
            "6            CARLOS EDUARDO PADOVAN     67860320878              ADEMAR COSTA BARROS               ROBINSON HELICOPTER               NaN              R22             590       R22                             HMNC           HELICOPTERO 1 MOTOR CONVENCIONAL                 621 - Kg                          001             VFR Diurno  PRIVADA SERVICO AEREO PRIVADOS               12862  OPERAÇÃO NEGADA PARA TÁXI AÉREO                   NaN\n",
            "7             AEROCLUBE DE ITAPOLIS  45329943000109            AEROCLUBE DE ITAPOLIS                               IPE              1985          IPE-02B             014      GLID                             PLAN              POUSO CONVECIONAL 0 SEM MOTOR                 565 - Kg                          001             VFR Diurno               PRIVADA INSTRUCAO               14259  OPERAÇÃO NEGADA PARA TÁXI AÉREO                   NaN\n",
            "8  UNITED BROTHERS INVESTMENTS, INC  12344009000280           MAIS LINHAS AEREAS S.A                           LEARJET              1988               31             005      LJ31                             LR30  POUSO CONVECIONAL 2 MOTORES JATO/TURBOFAN                7031 - Kg                          008            IFR Noturno  PRIVADA SERVICO AEREO PRIVADOS               16759  OPERAÇÃO NEGADA PARA TÁXI AÉREO                   NaN\n",
            "9                  ANTONIO POCHETTO     00821724800                 ANTONIO POCHETTO                           LEARJET               NaN               24             176      LJ24                             LR20  POUSO CONVECIONAL 2 MOTORES JATO/TURBOFAN                5388 - Kg                          006            IFR Noturno  PRIVADA SERVICO AEREO PRIVADOS                5747  OPERAÇÃO NEGADA PARA TÁXI AÉREO                   NaN\n"
          ],
          "name": "stdout"
        }
      ]
    }
  ]
}