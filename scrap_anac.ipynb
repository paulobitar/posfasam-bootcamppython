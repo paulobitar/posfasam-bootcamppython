{
  "nbformat": 4,
  "nbformat_minor": 0,
  "metadata": {
    "colab": {
      "name": "scrap_anac.ipynb",
      "provenance": [],
      "collapsed_sections": [],
      "authorship_tag": "ABX9TyPCyEWx7IF8frEjEj4y2/qp",
      "include_colab_link": true
    },
    "kernelspec": {
      "name": "python3",
      "display_name": "Python 3"
    },
    "language_info": {
      "name": "python"
    }
  },
  "cells": [
    {
      "cell_type": "markdown",
      "metadata": {
        "id": "view-in-github",
        "colab_type": "text"
      },
      "source": [
        "<a href=\"https://colab.research.google.com/github/paulobitar/posfasam-bootcamppython/blob/main/scrap_anac.ipynb\" target=\"_parent\"><img src=\"https://colab.research.google.com/assets/colab-badge.svg\" alt=\"Open In Colab\"/></a>"
      ]
    },
    {
      "cell_type": "code",
      "metadata": {
        "id": "W6NUGL5dsUh0"
      },
      "source": [
        "import json\n",
        "import urllib\n",
        "import requests\n",
        "import io\n",
        "import pandas as pd\n",
        "from bs4 import BeautifulSoup"
      ],
      "execution_count": 39,
      "outputs": []
    },
    {
      "cell_type": "code",
      "metadata": {
        "id": "ETPPGN6vk1oW"
      },
      "source": [
        "#recuperando o número de serie dos dados abertos da ANAC\n",
        "#limitado a 10 linhas por uma questão de performance\n",
        "url = \"https://www.anac.gov.br/acesso-a-informacao/dados-abertos/areas-de-atuacao/aeronaves/registro-aeronautico-brasileiro/aeronaves-registradas-no-registro-aeronautico-brasileiro-csv\"\n",
        "df_num_serie = pd.read_csv(url, sep=';', skiprows=1, encoding ='latin1', usecols=['NUM_SERIE'], nrows=10)\n"
      ],
      "execution_count": 40,
      "outputs": []
    },
    {
      "cell_type": "code",
      "metadata": {
        "id": "SzkEHwBOci4h"
      },
      "source": [
        "url = 'https://sistemas.anac.gov.br/aeronaves/cons_rab_resposta.asp?textMarca=&selectHabilitacao=&selectIcao=&selectModelo=&selectFabricante=&textNumeroSerie='\n",
        "lista_aeronave=[]\n",
        "\n",
        "for index, row in df_num_serie.iterrows():\n",
        "  #gerando a URL de Request com o número de série\n",
        "  r  = requests.get(url+row['NUM_SERIE'])\n",
        "  data = r.text\n",
        "  soup = BeautifulSoup(data,\"html.parser\")\n",
        "  #localizando a tabela onde estão os dados\n",
        "  tabela = soup.find(\"table\", {\"class\": \"table table-hover\"})\n",
        "  #usando o método read_html do pŕoprio pandas para transformar a tabela em um Dataframe\n",
        "  df = pd.read_html(str(tabela))[0]\n",
        "  df.rename(columns={0:'campo',1:'valor'}, inplace=True)\n",
        "  #ZIP retorna uma lista de tuplas, onde cada linha i-ésima tupla contém o i-ésimo elemento de cada um dos argumentos.\n",
        "  #Assim as linhas da coluna CAMPO se transformam em Colunas para cada valor\n",
        "  lista_aeronave.append(dict(zip(df.campo, df.valor)))\n",
        "  \n"
      ],
      "execution_count": null,
      "outputs": []
    },
    {
      "cell_type": "code",
      "metadata": {
        "id": "2oSzhXWhrxpv"
      },
      "source": [
        "#Transformando a lista em Dataframe\n",
        "df_aeronave = pd.DataFrame(lista_aeronave)\n",
        "#Os campos estão terminando com : . Tratamento para retirar isso usando list comprehension\n",
        "temp_cols = df_aeronave.columns\n",
        "final_cols = [x.replace(':','') for x in temp_cols]\n",
        "df_aeronave.columns = [x.replace(':','').strip() for x in temp_cols]\n",
        "\n",
        "print(df_aeronave.to_string())"
      ],
      "execution_count": null,
      "outputs": []
    }
  ]
}