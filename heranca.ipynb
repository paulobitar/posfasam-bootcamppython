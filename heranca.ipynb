{
  "nbformat": 4,
  "nbformat_minor": 0,
  "metadata": {
    "colab": {
      "name": "heranca.ipynb",
      "provenance": []
    },
    "kernelspec": {
      "name": "python3",
      "display_name": "Python 3"
    },
    "language_info": {
      "name": "python"
    }
  },
  "cells": [
    {
      "cell_type": "code",
      "metadata": {
        "id": "i2QEavLnZL0G"
      },
      "source": [
        "class Colaborador:\n",
        "\n",
        "  def __init__(self):\n",
        "    self.nome=''\n",
        "    self.matricula=''\n",
        "    self.idade=''\n",
        "    self.endereco=''\n",
        "    self.salario =0\n",
        "\n",
        "  def get_nome(self):\n",
        "    return self.nome\n",
        "\n",
        "class Gerente(Colaborador):\n",
        "  def __init__(self):\n",
        "    super().__init__()\n",
        "    self.bonus = 1.3"
      ],
      "execution_count": 1,
      "outputs": []
    },
    {
      "cell_type": "code",
      "metadata": {
        "colab": {
          "base_uri": "https://localhost:8080/"
        },
        "id": "PKt0hM-BZv-q",
        "outputId": "09d825eb-45a5-41d0-e4cf-09ddc5513992"
      },
      "source": [
        "pessoa = Gerente()\n",
        "pessoa.idade = 13\n",
        "pessoa.nome='Renata'\n",
        "print(pessoa.nome,\"tem\",pessoa.bonus,\"de bônus\")"
      ],
      "execution_count": 3,
      "outputs": [
        {
          "output_type": "stream",
          "text": [
            "Renata tem 1.3 de bênus\n"
          ],
          "name": "stdout"
        }
      ]
    }
  ]
}