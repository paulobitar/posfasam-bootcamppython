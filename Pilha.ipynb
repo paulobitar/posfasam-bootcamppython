{
  "nbformat": 4,
  "nbformat_minor": 0,
  "metadata": {
    "colab": {
      "name": "Pilha.ipynb",
      "provenance": []
    },
    "kernelspec": {
      "name": "python3",
      "display_name": "Python 3"
    },
    "language_info": {
      "name": "python"
    }
  },
  "cells": [
    {
      "cell_type": "code",
      "metadata": {
        "id": "hS1MVvSaE26I"
      },
      "source": [
        "class Pilha:\n",
        "  nome=\"\"\n",
        "\n",
        "  def __init__(self, nome=\"Estrutura Pilha\"):\n",
        "    self.pilha =[]\n",
        "    self.topo = 0\n",
        "    self.nome=nome\n",
        "  \n",
        "  def empilhar(self,item):\n",
        "    self.pilha.append(item)\n",
        "    self.topo +=1\n",
        "  \n",
        "  def desempilhar(self):\n",
        "    if (self.topo!=0):\n",
        "      itemo_removido = self.pilha[-1]\n",
        "      del self.pilha[-1]\n",
        "      self.topo-=1\n",
        "      return itemo_removido\n",
        "    else:\n",
        "      return \"pilha vazia\"\n"
      ],
      "execution_count": 5,
      "outputs": []
    },
    {
      "cell_type": "code",
      "metadata": {
        "colab": {
          "base_uri": "https://localhost:8080/",
          "height": 35
        },
        "id": "5Vw9v_3BFQDy",
        "outputId": "4b0d525d-bbcd-43fd-d749-10353ed6a625"
      },
      "source": [
        "p = Pilha()\n",
        "p.nome\n",
        "\n",
        "p = Pilha(\"Pilha 1\")\n",
        "p.nome"
      ],
      "execution_count": 3,
      "outputs": [
        {
          "output_type": "execute_result",
          "data": {
            "application/vnd.google.colaboratory.intrinsic+json": {
              "type": "string"
            },
            "text/plain": [
              "'Pilha 1'"
            ]
          },
          "metadata": {
            "tags": []
          },
          "execution_count": 3
        }
      ]
    },
    {
      "cell_type": "code",
      "metadata": {
        "colab": {
          "base_uri": "https://localhost:8080/"
        },
        "id": "RbqU0-J8F8e4",
        "outputId": "5ea0efc2-958c-4da7-cc96-a9a4e04a22f2"
      },
      "source": [
        "p1 = Pilha()\n",
        "p1.empilhar(\"Prato de porcelana\")\n",
        "p1.empilhar(\"prato de vidro\")\n",
        "p1.empilhar(\"Prato de sobremesa\")\n",
        "\n",
        "print(p1.desempilhar())\n",
        "print(p1.desempilhar())\n",
        "print(p1.desempilhar())"
      ],
      "execution_count": 6,
      "outputs": [
        {
          "output_type": "stream",
          "text": [
            "Prato de sobremesa\n",
            "prato de vidro\n",
            "Prato de porcelana\n"
          ],
          "name": "stdout"
        }
      ]
    }
  ]
}